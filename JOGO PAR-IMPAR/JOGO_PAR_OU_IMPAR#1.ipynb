{
  "cells": [
    {
      "cell_type": "markdown",
      "source": [
        "**JOGO DE IMPAR OU PAR**\n",
        "\n",
        "1*Quem serão os jogadores\n",
        "2*Quem escolhe primeiro\n",
        "3*Quem e impar ou Par\n",
        "4*Coletar número escolhidos pelos jogadores\n",
        "5*Calcula se a soma dos números e Impar ou Par\n",
        "6*Informe quem ganhou.\n"
      ],
      "metadata": {
        "id": "F1tK-cLcLP0L"
      }
    },
    {
      "cell_type": "code",
      "source": [
        "jogador1 = input('-> Digite o nome do jogador 1:')\n",
        "jogador2 = input('-> Digite o nome do jogador 2:')\n",
        "print('------------------------------------------------')\n",
        "print(f'//{jogador1} Vs {jogador2}//')\n",
        "print('------------------------------------------------')\n",
        "primeiro_jogador = input(f'-> Digite 1 para escolher {jogador1} ou 2 para escolher {jogador2}.')\n",
        "segundo_jogador = None\n",
        "\n",
        "if primeiro_jogador == '1':\n",
        "  primeiro_jogador = jogador1\n",
        "  segundo_jogador = jogador2\n",
        "elif primeiro_jogador == '2':\n",
        "  primeiro_jogador = jogador2\n",
        "  segundo_jogador = jogador1\n",
        "print('------------------------------------------------')\n",
        "print(f'//Escolha 0 Para  escolher Impar e 1 Para escolher Par//')\n",
        "escolha = input(f'-->{jogador1} Você escolhe Impar ou Par?')\n",
        "escolha2 = None\n",
        "print('------------------------------------------------')\n",
        "if escolha == 'Impar' or escolha == 'impar' or escolha == '0':\n",
        "  escolha = 'Impar'\n",
        "  escolha2 = 'Par'\n",
        "elif escolha == 'Par' or escolha == '1':\n",
        "  escolha = 'Par'\n",
        "  escolha2 = 'Impar'\n",
        "print(f'//{segundo_jogador}, você ficou com a {escolha2} e o {primeiro_jogador} ficou com {escolha}')\n",
        "print('------------------------------------------------')\n",
        "numero1 = int(input(f'-> {primeiro_jogador} , escolha um numero:'))\n",
        "numero2 = int(input(f'->{segundo_jogador} , escolha um numero:'))\n",
        "\n",
        "soma = numero1 + numero2\n",
        "\n",
        "if soma % 2 == 0:\n",
        "  vencedor = 'Impar'\n",
        "else:\n",
        "  vencedor = 'Par'\n",
        "if vencedor == escolha:\n",
        "  print(f'//{segundo_jogador}, Ganhou.//')\n",
        "else:\n",
        "  print(f'//{primeiro_jogador}, Ganhou.//')\n"
      ],
      "metadata": {
        "colab": {
          "base_uri": "https://localhost:8080/"
        },
        "id": "cRcZ14KrL3kR",
        "outputId": "b567c0fb-b172-4bd6-e74a-86c63a13c917"
      },
      "execution_count": null,
      "outputs": [
        {
          "output_type": "stream",
          "name": "stdout",
          "text": [
            "-> Digite o nome do jogador 1:j\n",
            "-> Digite o nome do jogador 2:m\n",
            "------------------------------------------------\n",
            "//j Vs m//\n",
            "------------------------------------------------\n",
            "-> Digite 1 para escolher j ou 2 para escolher m.1\n",
            "------------------------------------------------\n",
            "//Escolha 0 Para  escolher Impar e 1 Para escolher Par//\n",
            "-->j Você escolhe Impar ou Par?1\n",
            "------------------------------------------------\n",
            "//m, você ficou com a Impar e o j ficou com Par\n"
          ]
        }
      ]
    },
    {
      "cell_type": "code",
      "source": [],
      "metadata": {
        "id": "e0F13ceWW74-"
      },
      "execution_count": null,
      "outputs": []
    }
  ],
  "metadata": {
    "colab": {
      "name": "JOGO PAR OU IMPAR",
      "toc_visible": true,
      "provenance": []
    },
    "kernelspec": {
      "display_name": "Python 3",
      "name": "python3"
    }
  },
  "nbformat": 4,
  "nbformat_minor": 0
}